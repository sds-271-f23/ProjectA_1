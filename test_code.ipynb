{
 "cells": [
  {
   "cell_type": "markdown",
   "id": "d6636443-e30b-413a-b82a-1a333c1acdf8",
   "metadata": {},
   "source": [
    "this is not meaghans Big Deal pull request she is just trying to figure out how merge works"
   ]
  },
  {
   "cell_type": "code",
   "execution_count": 1,
   "id": "34dfca96-3b96-4234-b69b-0e0873e13ba3",
   "metadata": {},
   "outputs": [
    {
     "name": "stdout",
     "output_type": "stream",
     "text": [
      ":)\n"
     ]
    }
   ],
   "source": [
    "print(\":)\")"
   ]
  }
 ],
 "metadata": {
  "kernelspec": {
   "display_name": "Python 3 (ipykernel)",
   "language": "python",
   "name": "python3"
  },
  "language_info": {
   "codemirror_mode": {
    "name": "ipython",
    "version": 3
   },
   "file_extension": ".py",
   "mimetype": "text/x-python",
   "name": "python",
   "nbconvert_exporter": "python",
   "pygments_lexer": "ipython3",
   "version": "3.8.10"
  }
 },
 "nbformat": 4,
 "nbformat_minor": 5
}
